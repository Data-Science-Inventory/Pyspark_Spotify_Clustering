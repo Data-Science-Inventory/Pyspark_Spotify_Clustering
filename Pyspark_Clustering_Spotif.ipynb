{
  "nbformat": 4,
  "nbformat_minor": 0,
  "metadata": {
    "colab": {
      "provenance": []
    },
    "kernelspec": {
      "name": "python3",
      "display_name": "Python 3"
    },
    "language_info": {
      "name": "python"
    }
  },
  "cells": [
    {
      "cell_type": "code",
      "execution_count": 1,
      "metadata": {
        "colab": {
          "base_uri": "https://localhost:8080/"
        },
        "id": "7KZXiS7xvMX-",
        "outputId": "ce55c128-f8c8-44d8-9607-b0ab8e51a8b4"
      },
      "outputs": [
        {
          "output_type": "stream",
          "name": "stdout",
          "text": [
            "\u001b[2K     \u001b[90m━━━━━━━━━━━━━━━━━━━━━━━━━━━━━━━━━━━━━━━\u001b[0m \u001b[32m310.8/310.8 MB\u001b[0m \u001b[31m3.8 MB/s\u001b[0m eta \u001b[36m0:00:00\u001b[0m\n",
            "\u001b[?25h  Preparing metadata (setup.py) ... \u001b[?25l\u001b[?25hdone\n",
            "  Building wheel for pyspark (setup.py) ... \u001b[?25l\u001b[?25hdone\n"
          ]
        }
      ],
      "source": [
        "%pip install pyspark py4j -qq"
      ]
    },
    {
      "cell_type": "code",
      "source": [
        "from pyspark.sql import SparkSession\n",
        "spark = SparkSession.builder.appName('PySpark_for_DataScience').getOrCreate()"
      ],
      "metadata": {
        "id": "ze1txNJAvQTX"
      },
      "execution_count": 2,
      "outputs": []
    },
    {
      "cell_type": "code",
      "source": [
        "df = spark.read.csv('/content/drive/MyDrive/Pyspark/spotify_weekly_chart.csv', sep = ',',header = True,)\n",
        "\n",
        "df.printSchema()"
      ],
      "metadata": {
        "colab": {
          "base_uri": "https://localhost:8080/"
        },
        "id": "_OGOUhr6vh1O",
        "outputId": "17355269-fcaa-4010-f88c-c29ee35587ac"
      },
      "execution_count": 6,
      "outputs": [
        {
          "output_type": "stream",
          "name": "stdout",
          "text": [
            "root\n",
            " |-- Pos: string (nullable = true)\n",
            " |-- P+: string (nullable = true)\n",
            " |-- Artist: string (nullable = true)\n",
            " |-- Title: string (nullable = true)\n",
            " |-- Wks: string (nullable = true)\n",
            " |-- Pk: string (nullable = true)\n",
            " |-- (x?): string (nullable = true)\n",
            " |-- Streams: string (nullable = true)\n",
            " |-- Streams+: string (nullable = true)\n",
            " |-- Total: string (nullable = true)\n",
            "\n"
          ]
        }
      ]
    },
    {
      "cell_type": "code",
      "source": [
        "from pyspark.sql.types import *\n",
        "\n",
        "data_schema = [\n",
        "               StructField('Pos', IntegerType(), True),\n",
        "               StructField('P+', StringType(), True),\n",
        "               StructField('Artist', StringType(), True),\n",
        "               StructField('Title', StringType(), True),\n",
        "               StructField('Wks', IntegerType(), True),\n",
        "               StructField('Pk', IntegerType(), True),\n",
        "               StructField('(x?)', StringType(), True),\n",
        "               StructField('Streams', IntegerType(), True),\n",
        "               StructField('Streams+', DoubleType(), True),\n",
        "               StructField('Total', IntegerType(), True),\n",
        "            ]\n",
        "\n",
        "final_struc = StructType(fields = data_schema)"
      ],
      "metadata": {
        "id": "vt8fhVe0vtca"
      },
      "execution_count": 7,
      "outputs": []
    },
    {
      "cell_type": "code",
      "source": [
        "df = spark.read.csv(\n",
        "    '/content/drive/MyDrive/Pyspark/spotify_weekly_chart.csv',\n",
        "    sep = ',',\n",
        "    header = True,\n",
        "    schema = final_struc \n",
        "    )\n",
        "\n",
        "df.printSchema()"
      ],
      "metadata": {
        "colab": {
          "base_uri": "https://localhost:8080/"
        },
        "id": "qEQpHFMKwHoc",
        "outputId": "762da521-b76a-435a-cb8b-26b02bf2748c"
      },
      "execution_count": 9,
      "outputs": [
        {
          "output_type": "stream",
          "name": "stdout",
          "text": [
            "root\n",
            " |-- Pos: integer (nullable = true)\n",
            " |-- P+: string (nullable = true)\n",
            " |-- Artist: string (nullable = true)\n",
            " |-- Title: string (nullable = true)\n",
            " |-- Wks: integer (nullable = true)\n",
            " |-- Pk: integer (nullable = true)\n",
            " |-- (x?): string (nullable = true)\n",
            " |-- Streams: integer (nullable = true)\n",
            " |-- Streams+: double (nullable = true)\n",
            " |-- Total: integer (nullable = true)\n",
            "\n"
          ]
        }
      ]
    },
    {
      "cell_type": "code",
      "source": [
        "df.limit(5).toPandas()"
      ],
      "metadata": {
        "colab": {
          "base_uri": "https://localhost:8080/",
          "height": 206
        },
        "id": "UcZAtOtWwPef",
        "outputId": "5d707639-e019-4fed-c338-53d8cf295770"
      },
      "execution_count": 10,
      "outputs": [
        {
          "output_type": "execute_result",
          "data": {
            "text/plain": [
              "   Pos   P+           Artist               Title  Wks  Pk (x?)   Streams  \\\n",
              "0    1    =     Miley Cyrus              Flowers    7   1    7  56744018   \n",
              "1    2  NEW         KAROL G                  TQG    1   2    1  53284451   \n",
              "2    3  NEW      The Weeknd          Die For You    1   3    1  46213370   \n",
              "3    4   -2             SZA            Kill Bill   12   1    2  45630547   \n",
              "4    5   -2  PinkPantheress   Boy's a liar Pt. 2    4   3    1  39475419   \n",
              "\n",
              "    Streams+      Total  \n",
              "0 -5019054.0  585390148  \n",
              "1        NaN   53284451  \n",
              "2        NaN   46213370  \n",
              "3  -918530.0  556085332  \n",
              "4   303113.0  123300074  "
            ],
            "text/html": [
              "\n",
              "  <div id=\"df-a023d4e3-ac80-44c7-85e8-77a04abf037d\">\n",
              "    <div class=\"colab-df-container\">\n",
              "      <div>\n",
              "<style scoped>\n",
              "    .dataframe tbody tr th:only-of-type {\n",
              "        vertical-align: middle;\n",
              "    }\n",
              "\n",
              "    .dataframe tbody tr th {\n",
              "        vertical-align: top;\n",
              "    }\n",
              "\n",
              "    .dataframe thead th {\n",
              "        text-align: right;\n",
              "    }\n",
              "</style>\n",
              "<table border=\"1\" class=\"dataframe\">\n",
              "  <thead>\n",
              "    <tr style=\"text-align: right;\">\n",
              "      <th></th>\n",
              "      <th>Pos</th>\n",
              "      <th>P+</th>\n",
              "      <th>Artist</th>\n",
              "      <th>Title</th>\n",
              "      <th>Wks</th>\n",
              "      <th>Pk</th>\n",
              "      <th>(x?)</th>\n",
              "      <th>Streams</th>\n",
              "      <th>Streams+</th>\n",
              "      <th>Total</th>\n",
              "    </tr>\n",
              "  </thead>\n",
              "  <tbody>\n",
              "    <tr>\n",
              "      <th>0</th>\n",
              "      <td>1</td>\n",
              "      <td>=</td>\n",
              "      <td>Miley Cyrus</td>\n",
              "      <td>Flowers</td>\n",
              "      <td>7</td>\n",
              "      <td>1</td>\n",
              "      <td>7</td>\n",
              "      <td>56744018</td>\n",
              "      <td>-5019054.0</td>\n",
              "      <td>585390148</td>\n",
              "    </tr>\n",
              "    <tr>\n",
              "      <th>1</th>\n",
              "      <td>2</td>\n",
              "      <td>NEW</td>\n",
              "      <td>KAROL G</td>\n",
              "      <td>TQG</td>\n",
              "      <td>1</td>\n",
              "      <td>2</td>\n",
              "      <td>1</td>\n",
              "      <td>53284451</td>\n",
              "      <td>NaN</td>\n",
              "      <td>53284451</td>\n",
              "    </tr>\n",
              "    <tr>\n",
              "      <th>2</th>\n",
              "      <td>3</td>\n",
              "      <td>NEW</td>\n",
              "      <td>The Weeknd</td>\n",
              "      <td>Die For You</td>\n",
              "      <td>1</td>\n",
              "      <td>3</td>\n",
              "      <td>1</td>\n",
              "      <td>46213370</td>\n",
              "      <td>NaN</td>\n",
              "      <td>46213370</td>\n",
              "    </tr>\n",
              "    <tr>\n",
              "      <th>3</th>\n",
              "      <td>4</td>\n",
              "      <td>-2</td>\n",
              "      <td>SZA</td>\n",
              "      <td>Kill Bill</td>\n",
              "      <td>12</td>\n",
              "      <td>1</td>\n",
              "      <td>2</td>\n",
              "      <td>45630547</td>\n",
              "      <td>-918530.0</td>\n",
              "      <td>556085332</td>\n",
              "    </tr>\n",
              "    <tr>\n",
              "      <th>4</th>\n",
              "      <td>5</td>\n",
              "      <td>-2</td>\n",
              "      <td>PinkPantheress</td>\n",
              "      <td>Boy's a liar Pt. 2</td>\n",
              "      <td>4</td>\n",
              "      <td>3</td>\n",
              "      <td>1</td>\n",
              "      <td>39475419</td>\n",
              "      <td>303113.0</td>\n",
              "      <td>123300074</td>\n",
              "    </tr>\n",
              "  </tbody>\n",
              "</table>\n",
              "</div>\n",
              "      <button class=\"colab-df-convert\" onclick=\"convertToInteractive('df-a023d4e3-ac80-44c7-85e8-77a04abf037d')\"\n",
              "              title=\"Convert this dataframe to an interactive table.\"\n",
              "              style=\"display:none;\">\n",
              "        \n",
              "  <svg xmlns=\"http://www.w3.org/2000/svg\" height=\"24px\"viewBox=\"0 0 24 24\"\n",
              "       width=\"24px\">\n",
              "    <path d=\"M0 0h24v24H0V0z\" fill=\"none\"/>\n",
              "    <path d=\"M18.56 5.44l.94 2.06.94-2.06 2.06-.94-2.06-.94-.94-2.06-.94 2.06-2.06.94zm-11 1L8.5 8.5l.94-2.06 2.06-.94-2.06-.94L8.5 2.5l-.94 2.06-2.06.94zm10 10l.94 2.06.94-2.06 2.06-.94-2.06-.94-.94-2.06-.94 2.06-2.06.94z\"/><path d=\"M17.41 7.96l-1.37-1.37c-.4-.4-.92-.59-1.43-.59-.52 0-1.04.2-1.43.59L10.3 9.45l-7.72 7.72c-.78.78-.78 2.05 0 2.83L4 21.41c.39.39.9.59 1.41.59.51 0 1.02-.2 1.41-.59l7.78-7.78 2.81-2.81c.8-.78.8-2.07 0-2.86zM5.41 20L4 18.59l7.72-7.72 1.47 1.35L5.41 20z\"/>\n",
              "  </svg>\n",
              "      </button>\n",
              "      \n",
              "  <style>\n",
              "    .colab-df-container {\n",
              "      display:flex;\n",
              "      flex-wrap:wrap;\n",
              "      gap: 12px;\n",
              "    }\n",
              "\n",
              "    .colab-df-convert {\n",
              "      background-color: #E8F0FE;\n",
              "      border: none;\n",
              "      border-radius: 50%;\n",
              "      cursor: pointer;\n",
              "      display: none;\n",
              "      fill: #1967D2;\n",
              "      height: 32px;\n",
              "      padding: 0 0 0 0;\n",
              "      width: 32px;\n",
              "    }\n",
              "\n",
              "    .colab-df-convert:hover {\n",
              "      background-color: #E2EBFA;\n",
              "      box-shadow: 0px 1px 2px rgba(60, 64, 67, 0.3), 0px 1px 3px 1px rgba(60, 64, 67, 0.15);\n",
              "      fill: #174EA6;\n",
              "    }\n",
              "\n",
              "    [theme=dark] .colab-df-convert {\n",
              "      background-color: #3B4455;\n",
              "      fill: #D2E3FC;\n",
              "    }\n",
              "\n",
              "    [theme=dark] .colab-df-convert:hover {\n",
              "      background-color: #434B5C;\n",
              "      box-shadow: 0px 1px 3px 1px rgba(0, 0, 0, 0.15);\n",
              "      filter: drop-shadow(0px 1px 2px rgba(0, 0, 0, 0.3));\n",
              "      fill: #FFFFFF;\n",
              "    }\n",
              "  </style>\n",
              "\n",
              "      <script>\n",
              "        const buttonEl =\n",
              "          document.querySelector('#df-a023d4e3-ac80-44c7-85e8-77a04abf037d button.colab-df-convert');\n",
              "        buttonEl.style.display =\n",
              "          google.colab.kernel.accessAllowed ? 'block' : 'none';\n",
              "\n",
              "        async function convertToInteractive(key) {\n",
              "          const element = document.querySelector('#df-a023d4e3-ac80-44c7-85e8-77a04abf037d');\n",
              "          const dataTable =\n",
              "            await google.colab.kernel.invokeFunction('convertToInteractive',\n",
              "                                                     [key], {});\n",
              "          if (!dataTable) return;\n",
              "\n",
              "          const docLinkHtml = 'Like what you see? Visit the ' +\n",
              "            '<a target=\"_blank\" href=https://colab.research.google.com/notebooks/data_table.ipynb>data table notebook</a>'\n",
              "            + ' to learn more about interactive tables.';\n",
              "          element.innerHTML = '';\n",
              "          dataTable['output_type'] = 'display_data';\n",
              "          await google.colab.output.renderOutput(dataTable, element);\n",
              "          const docLink = document.createElement('div');\n",
              "          docLink.innerHTML = docLinkHtml;\n",
              "          element.appendChild(docLink);\n",
              "        }\n",
              "      </script>\n",
              "    </div>\n",
              "  </div>\n",
              "  "
            ]
          },
          "metadata": {},
          "execution_count": 10
        }
      ]
    },
    {
      "cell_type": "code",
      "source": [
        "df.describe().show()"
      ],
      "metadata": {
        "colab": {
          "base_uri": "https://localhost:8080/"
        },
        "id": "uDO1df0swWi4",
        "outputId": "6458d327-fad1-4ece-bf37-c0b206fdb0ab"
      },
      "execution_count": 11,
      "outputs": [
        {
          "output_type": "stream",
          "name": "stdout",
          "text": [
            "+-------+------------------+------------------+-----------+------+-----------------+----------------+-----------------+-----------------+------------------+--------------------+\n",
            "|summary|               Pos|                P+|     Artist| Title|              Wks|              Pk|             (x?)|          Streams|          Streams+|               Total|\n",
            "+-------+------------------+------------------+-----------+------+-----------------+----------------+-----------------+-----------------+------------------+--------------------+\n",
            "|  count|               200|               200|        200|   200|              200|             200|               32|              200|               184|                 192|\n",
            "|   mean|             100.5|-2.536723163841808|       null| 505.0|            44.32|           44.43|          4.34375|    1.234558693E7| 98076.73369565218| 3.857726347291667E8|\n",
            "| stddev|57.879184513951124|24.042577206838494|       null|  null|62.79781387226534|45.8743652483026|4.052950936086272|7487267.670902285|1387335.6770268704|4.1471066854923165E8|\n",
            "|    min|                 1|                +1|     Adele | 10:35|                1|               1|                1|          7380345|        -6062515.0|             7470526|\n",
            "|    max|               200|                RE|Ñengo Flow |lovely|              317|             195|                9|         56744018|         8062485.0|          2101461856|\n",
            "+-------+------------------+------------------+-----------+------+-----------------+----------------+-----------------+-----------------+------------------+--------------------+\n",
            "\n"
          ]
        }
      ]
    },
    {
      "cell_type": "code",
      "source": [
        "df.count()"
      ],
      "metadata": {
        "colab": {
          "base_uri": "https://localhost:8080/"
        },
        "id": "pTbw3gg-wYSK",
        "outputId": "cc21ac6d-2252-4e7a-a258-b2bf57965980"
      },
      "execution_count": 12,
      "outputs": [
        {
          "output_type": "execute_result",
          "data": {
            "text/plain": [
              "200"
            ]
          },
          "metadata": {},
          "execution_count": 12
        }
      ]
    },
    {
      "cell_type": "code",
      "source": [
        "df = df.withColumnRenamed('Pos', 'Rank')\n",
        "\n",
        "df.show(5)"
      ],
      "metadata": {
        "colab": {
          "base_uri": "https://localhost:8080/"
        },
        "id": "lvM9Vbx8waAc",
        "outputId": "68d053c7-4359-4994-bc78-f6e137cdba8c"
      },
      "execution_count": 13,
      "outputs": [
        {
          "output_type": "stream",
          "name": "stdout",
          "text": [
            "+----+---+---------------+------------------+---+---+----+--------+----------+---------+\n",
            "|Rank| P+|         Artist|             Title|Wks| Pk|(x?)| Streams|  Streams+|    Total|\n",
            "+----+---+---------------+------------------+---+---+----+--------+----------+---------+\n",
            "|   1|  =|   Miley Cyrus |           Flowers|  7|  1|   7|56744018|-5019054.0|585390148|\n",
            "|   2|NEW|       KAROL G |               TQG|  1|  2|   1|53284451|      null| 53284451|\n",
            "|   3|NEW|    The Weeknd |       Die For You|  1|  3|   1|46213370|      null| 46213370|\n",
            "|   4| -2|           SZA |         Kill Bill| 12|  1|   2|45630547| -918530.0|556085332|\n",
            "|   5| -2|PinkPantheress |Boy's a liar Pt. 2|  4|  3|   1|39475419|  303113.0|123300074|\n",
            "+----+---+---------------+------------------+---+---+----+--------+----------+---------+\n",
            "only showing top 5 rows\n",
            "\n"
          ]
        }
      ]
    },
    {
      "cell_type": "code",
      "source": [
        "df = df.drop('P+','Pk','(x?)','Streams+')\n",
        "\n",
        "df.show(5)"
      ],
      "metadata": {
        "colab": {
          "base_uri": "https://localhost:8080/"
        },
        "id": "LRbiiaEpwceP",
        "outputId": "011dcbdd-b0f9-4f74-944f-b30e4d4ad8f8"
      },
      "execution_count": 14,
      "outputs": [
        {
          "output_type": "stream",
          "name": "stdout",
          "text": [
            "+----+---------------+------------------+---+--------+---------+\n",
            "|Rank|         Artist|             Title|Wks| Streams|    Total|\n",
            "+----+---------------+------------------+---+--------+---------+\n",
            "|   1|   Miley Cyrus |           Flowers|  7|56744018|585390148|\n",
            "|   2|       KAROL G |               TQG|  1|53284451| 53284451|\n",
            "|   3|    The Weeknd |       Die For You|  1|46213370| 46213370|\n",
            "|   4|           SZA |         Kill Bill| 12|45630547|556085332|\n",
            "|   5|PinkPantheress |Boy's a liar Pt. 2|  4|39475419|123300074|\n",
            "+----+---------------+------------------+---+--------+---------+\n",
            "only showing top 5 rows\n",
            "\n"
          ]
        }
      ]
    },
    {
      "cell_type": "code",
      "source": [
        "df = df.na.drop()\n",
        "## Or\n",
        "#data.na.replace(old_value, new_vallue)"
      ],
      "metadata": {
        "id": "_MJ6rwztwkco"
      },
      "execution_count": 15,
      "outputs": []
    },
    {
      "cell_type": "code",
      "source": [
        "df.select(['Artist', 'Artist', 'Total']).show(5)"
      ],
      "metadata": {
        "colab": {
          "base_uri": "https://localhost:8080/"
        },
        "id": "Vsb4xIFXwmrG",
        "outputId": "e3e2964b-c46e-481f-847b-709158549cf4"
      },
      "execution_count": 16,
      "outputs": [
        {
          "output_type": "stream",
          "name": "stdout",
          "text": [
            "+---------------+---------------+---------+\n",
            "|         Artist|         Artist|    Total|\n",
            "+---------------+---------------+---------+\n",
            "|   Miley Cyrus |   Miley Cyrus |585390148|\n",
            "|       KAROL G |       KAROL G | 53284451|\n",
            "|    The Weeknd |    The Weeknd | 46213370|\n",
            "|           SZA |           SZA |556085332|\n",
            "|PinkPantheress |PinkPantheress |123300074|\n",
            "+---------------+---------------+---------+\n",
            "only showing top 5 rows\n",
            "\n"
          ]
        }
      ]
    },
    {
      "cell_type": "code",
      "source": [
        "from pyspark.sql.functions import col, lit, when\n",
        "\n",
        "df.filter(\n",
        "    (col(\"Total\") >= lit(\"600000000\")) & (col(\"Total\") <= lit(\"700000000\"))\n",
        ").show(5)"
      ],
      "metadata": {
        "colab": {
          "base_uri": "https://localhost:8080/"
        },
        "id": "jOliTU-VwoaW",
        "outputId": "7be8ef8b-0993-40f8-87c6-cba5f3a9f119"
      },
      "execution_count": 17,
      "outputs": [
        {
          "output_type": "stream",
          "name": "stdout",
          "text": [
            "+----+-------------+-------------------+---+--------+---------+\n",
            "|Rank|       Artist|              Title|Wks| Streams|    Total|\n",
            "+----+-------------+-------------------+---+--------+---------+\n",
            "|  14|  The Weeknd |        Die For You| 59|22988828|687729855|\n",
            "|  18|Taylor Swift |               Anti| 19|20034882|619942698|\n",
            "|  46| Chris Brown |Under The Influence| 32|14024690|604561746|\n",
            "|  67|  Steve Lacy |          Bad Habit| 34|12146050|616610588|\n",
            "|  92|     ROSALÍA |           DESPECHÁ| 31|10134064|604837151|\n",
            "+----+-------------+-------------------+---+--------+---------+\n",
            "only showing top 5 rows\n",
            "\n"
          ]
        }
      ]
    },
    {
      "cell_type": "code",
      "source": [
        "df.select('Artist', 'Title', \n",
        "            when(df.Wks >= 35, 1).otherwise(0)\n",
        "           ).show(5)"
      ],
      "metadata": {
        "colab": {
          "base_uri": "https://localhost:8080/"
        },
        "id": "CBuQdG8rwqDY",
        "outputId": "b3708f00-f2e1-44fc-ec94-7fe069a7cc32"
      },
      "execution_count": 18,
      "outputs": [
        {
          "output_type": "stream",
          "name": "stdout",
          "text": [
            "+---------------+------------------+---------------------------------------+\n",
            "|         Artist|             Title|CASE WHEN (Wks >= 35) THEN 1 ELSE 0 END|\n",
            "+---------------+------------------+---------------------------------------+\n",
            "|   Miley Cyrus |           Flowers|                                      0|\n",
            "|       KAROL G |               TQG|                                      0|\n",
            "|    The Weeknd |       Die For You|                                      0|\n",
            "|           SZA |         Kill Bill|                                      0|\n",
            "|PinkPantheress |Boy's a liar Pt. 2|                                      0|\n",
            "+---------------+------------------+---------------------------------------+\n",
            "only showing top 5 rows\n",
            "\n"
          ]
        }
      ]
    },
    {
      "cell_type": "code",
      "source": [
        "df.select(['Artist','Wks','Total'])\\\n",
        "        .groupBy('Artist')\\\n",
        "        .mean()\\\n",
        "        .orderBy(['avg(Total)'], ascending = [False])\\\n",
        "        .show(5)"
      ],
      "metadata": {
        "colab": {
          "base_uri": "https://localhost:8080/"
        },
        "id": "a09Jgh5owsIS",
        "outputId": "a33a37db-574f-49d1-9216-d4c1fd12b6ea"
      },
      "execution_count": 19,
      "outputs": [
        {
          "output_type": "stream",
          "name": "stdout",
          "text": [
            "+------------------+--------+--------------------+\n",
            "|            Artist|avg(Wks)|          avg(Total)|\n",
            "+------------------+--------+--------------------+\n",
            "|    Billie Eilish |   254.0|       2.098789064E9|\n",
            "|     James Arthur |   290.0|       1.983256195E9|\n",
            "|     Harry Styles |    87.0|1.5457005193333333E9|\n",
            "|The Neighbourhood |   156.0|       1.440976493E9|\n",
            "|       Elton John |    81.0|       1.388794442E9|\n",
            "+------------------+--------+--------------------+\n",
            "only showing top 5 rows\n",
            "\n"
          ]
        }
      ]
    },
    {
      "cell_type": "code",
      "source": [
        "vis_df = (\n",
        "    df.select([\"Artist\", \"Wks\", \"Total\"])\n",
        "    .groupBy(\"Artist\")\n",
        "    .mean()\n",
        "    .orderBy([\"avg(Total)\"], ascending=[False])\n",
        "    .toPandas()\n",
        ")\n",
        "\n",
        "vis_df.iloc[0:7].plot(\n",
        "    kind=\"bar\",\n",
        "    x=\"Artist\",\n",
        "    y=\"avg(Total)\",\n",
        "    figsize=(12, 6),\n",
        "    ylabel=\"Average Average Streams\",\n",
        ")"
      ],
      "metadata": {
        "colab": {
          "base_uri": "https://localhost:8080/",
          "height": 701
        },
        "id": "-ctkxisCwtkC",
        "outputId": "6df858c6-bc21-464c-883a-e50cee3e7f38"
      },
      "execution_count": 20,
      "outputs": [
        {
          "output_type": "execute_result",
          "data": {
            "text/plain": [
              "<Axes: xlabel='Artist', ylabel='Average Average Streams'>"
            ]
          },
          "metadata": {},
          "execution_count": 20
        },
        {
          "output_type": "display_data",
          "data": {
            "text/plain": [
              "<Figure size 1200x600 with 1 Axes>"
            ],
            "image/png": "[encoded data removed]"
          },
          "metadata": {}
        }
      ]
    },
    {
      "cell_type": "code",
      "source": [
        "final_data = (\n",
        "    df.select([\"Artist\", \"Wks\", \"Total\"])\n",
        "    .groupBy(\"Artist\")\n",
        "    .mean()\n",
        "    .orderBy([\"avg(Total)\"], ascending=[False])\n",
        ")\n",
        "\n",
        "# CSV\n",
        "final_data.write.csv(\"dataset.csv\")\n",
        "\n",
        "# JSON\n",
        "final_data.write.save(\"dataset.json\", format=\"json\")\n",
        "\n",
        "# Parquet\n",
        "final_data.write.save(\"dataset.parquet\", format=\"parquet\")"
      ],
      "metadata": {
        "id": "yDoTegaHwvSw"
      },
      "execution_count": 21,
      "outputs": []
    },
    {
      "cell_type": "code",
      "source": [
        "from pyspark.ml.feature import (\n",
        "    VectorAssembler,\n",
        "    StringIndexer,\n",
        "    OneHotEncoder,\n",
        "    StandardScaler,\n",
        ")\n",
        "\n",
        "## Categorical Encoding\n",
        "indexer = StringIndexer(inputCol=\"Artist\", outputCol=\"Encode_Artist\").fit(\n",
        "    final_data\n",
        ")\n",
        "encoded_df = indexer.transform(final_data)\n",
        "\n",
        "## Assembling Features\n",
        "assemble = VectorAssembler(\n",
        "    inputCols=[\"Encode_Artist\", \"avg(Wks)\", \"avg(Total)\"],\n",
        "    outputCol=\"features\",\n",
        ")\n",
        "\n",
        "assembled_data = assemble.transform(encoded_df)\n",
        "\n",
        "## Standard Scaling\n",
        "scale = StandardScaler(inputCol=\"features\", outputCol=\"standardized\")\n",
        "data_scale = scale.fit(assembled_data)\n",
        "data_scale_output = data_scale.transform(assembled_data)\n",
        "data_scale_output.show(5)"
      ],
      "metadata": {
        "colab": {
          "base_uri": "https://localhost:8080/"
        },
        "id": "IG9SMK5KwxUj",
        "outputId": "7c1f36a1-db6d-4e4e-cda2-9b6d3eeab396"
      },
      "execution_count": 22,
      "outputs": [
        {
          "output_type": "stream",
          "name": "stdout",
          "text": [
            "+------------------+--------+--------------------+-------------+--------------------+--------------------+\n",
            "|            Artist|avg(Wks)|          avg(Total)|Encode_Artist|            features|        standardized|\n",
            "+------------------+--------+--------------------+-------------+--------------------+--------------------+\n",
            "|    Billie Eilish |   254.0|       2.098789064E9|          8.0|[8.0,254.0,2.0987...|[0.22082097898955...|\n",
            "|     James Arthur |   290.0|       1.983256195E9|         42.0|[42.0,290.0,1.983...|[1.15931013969515...|\n",
            "|     Harry Styles |    87.0|1.5457005193333333E9|         34.0|[34.0,87.0,1.5457...|[0.93848916070560...|\n",
            "|The Neighbourhood |   156.0|       1.440976493E9|        108.0|[108.0,156.0,1.44...|[2.98108321635897...|\n",
            "|       Elton John |    81.0|       1.388794442E9|         26.0|[26.0,81.0,1.3887...|[0.71766818171604...|\n",
            "+------------------+--------+--------------------+-------------+--------------------+--------------------+\n",
            "only showing top 5 rows\n",
            "\n"
          ]
        }
      ]
    },
    {
      "cell_type": "code",
      "source": [
        "from pyspark.ml.clustering import KMeans\n",
        "KMeans_algo=KMeans(featuresCol='standardized', k=4)\n",
        "KMeans_fit=KMeans_algo.fit(data_scale_output)\n",
        "preds=KMeans_fit.transform(data_scale_output)\n",
        "\n",
        "preds.show(5)"
      ],
      "metadata": {
        "colab": {
          "base_uri": "https://localhost:8080/"
        },
        "id": "1jbcwyFawzvz",
        "outputId": "da5d7ea1-98da-4131-cf64-f7678d766f76"
      },
      "execution_count": 23,
      "outputs": [
        {
          "output_type": "stream",
          "name": "stdout",
          "text": [
            "+------------------+--------+--------------------+-------------+--------------------+--------------------+----------+\n",
            "|            Artist|avg(Wks)|          avg(Total)|Encode_Artist|            features|        standardized|prediction|\n",
            "+------------------+--------+--------------------+-------------+--------------------+--------------------+----------+\n",
            "|    Billie Eilish |   254.0|       2.098789064E9|          8.0|[8.0,254.0,2.0987...|[0.22082097898955...|         1|\n",
            "|     James Arthur |   290.0|       1.983256195E9|         42.0|[42.0,290.0,1.983...|[1.15931013969515...|         1|\n",
            "|     Harry Styles |    87.0|1.5457005193333333E9|         34.0|[34.0,87.0,1.5457...|[0.93848916070560...|         3|\n",
            "|The Neighbourhood |   156.0|       1.440976493E9|        108.0|[108.0,156.0,1.44...|[2.98108321635897...|         1|\n",
            "|       Elton John |    81.0|       1.388794442E9|         26.0|[26.0,81.0,1.3887...|[0.71766818171604...|         3|\n",
            "+------------------+--------+--------------------+-------------+--------------------+--------------------+----------+\n",
            "only showing top 5 rows\n",
            "\n"
          ]
        }
      ]
    },
    {
      "cell_type": "code",
      "source": [
        "import matplotlib.pyplot as plt\n",
        "import seaborn as sns\n",
        "\n",
        "df_viz = preds.select(\n",
        "    \"Artist\", \"avg(Wks)\", \"avg(Total)\", \"prediction\"\n",
        ").toPandas()\n",
        "avg_df = df_viz.groupby([\"prediction\"], as_index=False).mean()\n",
        "\n",
        "list1 = [\"avg(Wks)\", \"avg(Total)\"]\n",
        "\n",
        "for i in list1:\n",
        "    sns.barplot(x=\"prediction\", y=str(i), data=avg_df)\n",
        "    plt.show()"
      ],
      "metadata": {
        "colab": {
          "base_uri": "https://localhost:8080/",
          "height": 952
        },
        "id": "buwQlNk9w1w0",
        "outputId": "5247ce98-7249-480a-c531-8550b2722d96"
      },
      "execution_count": 24,
      "outputs": [
        {
          "output_type": "stream",
          "name": "stderr",
          "text": [
            "<ipython-input-24-074d404c79fa>:7: FutureWarning: The default value of numeric_only in DataFrameGroupBy.mean is deprecated. In a future version, numeric_only will default to False. Either specify numeric_only or select only columns which should be valid for the function.\n",
            "  avg_df = df_viz.groupby([\"prediction\"], as_index=False).mean()\n"
          ]
        },
        {
          "output_type": "display_data",
          "data": {
            "text/plain": [
              "<Figure size 640x480 with 1 Axes>"
            ],
            "image/png": "[encoded data removed]"
          },
          "metadata": {}
        },
        {
          "output_type": "display_data",
          "data": {
            "text/plain": [
              "<Figure size 640x480 with 1 Axes>"
            ],
            "image/png": "[encoded data removed]"
          },
          "metadata": {}
        }
      ]
    },
    {
      "cell_type": "code",
      "source": [
        "KMeans_fit.save(\"KMeans_fit.model\")"
      ],
      "metadata": {
        "id": "fCBeF72Ew4io"
      },
      "execution_count": 28,
      "outputs": []
    },
    {
      "cell_type": "code",
      "source": [
        "from pyspark.ml.clustering import KMeansModel\n",
        "sameModel =KMeansModel.load(\"KMeans_fit.model\")"
      ],
      "metadata": {
        "id": "QAKjEsM4xInL"
      },
      "execution_count": 31,
      "outputs": []
    },
    {
      "cell_type": "code",
      "source": [],
      "metadata": {
        "id": "SRGHDz_NxT71"
      },
      "execution_count": null,
      "outputs": []
    }
  ]
}